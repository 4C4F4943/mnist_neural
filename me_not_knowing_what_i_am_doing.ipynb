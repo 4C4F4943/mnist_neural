{
 "cells": [
  {
   "cell_type": "code",
   "execution_count": 1,
   "metadata": {},
   "outputs": [
    {
     "data": {
      "text/plain": [
       "array([[7., 0., 0., ..., 0., 0., 0.],\n",
       "       [2., 0., 0., ..., 0., 0., 0.],\n",
       "       [1., 0., 0., ..., 0., 0., 0.],\n",
       "       ...,\n",
       "       [9., 0., 0., ..., 0., 0., 0.],\n",
       "       [5., 0., 0., ..., 0., 0., 0.],\n",
       "       [9., 0., 0., ..., 0., 0., 0.]])"
      ]
     },
     "execution_count": 1,
     "metadata": {},
     "output_type": "execute_result"
    }
   ],
   "source": [
    "import numpy as np\n",
    "import matplotlib.pyplot as plt\n",
    "#np.set_printoptions(suppress=True)\n",
    "\n",
    "data_path = \"/Users/loicnachtergaele/mnist_neural-main/\"\n",
    "test = data_path + \"mnist_train.csv\"\n",
    "train_data = np.loadtxt(data_path + \"mnist_train.csv\", \n",
    "                        delimiter=\",\")\n",
    "test_data = np.loadtxt(data_path + \"mnist_test.csv\", \n",
    "                       delimiter=\",\") \n",
    "test_data[:10]"
   ]
  },
  {
   "cell_type": "code",
   "execution_count": 2,
   "metadata": {},
   "outputs": [
    {
     "name": "stdout",
     "output_type": "stream",
     "text": [
      "Populating the interactive namespace from numpy and matplotlib\n"
     ]
    },
    {
     "name": "stderr",
     "output_type": "stream",
     "text": [
      "/usr/local/lib/python3.9/site-packages/IPython/core/magics/pylab.py:159: UserWarning: pylab import has clobbered these variables: ['test']\n",
      "`%matplotlib` prevents importing * from pylab and numpy\n",
      "  warn(\"pylab import has clobbered these variables: %s\"  % clobbered +\n"
     ]
    },
    {
     "name": "stdout",
     "output_type": "stream",
     "text": [
      "(60000, 784)\n"
     ]
    },
    {
     "data": {
      "text/plain": [
       "(<matplotlib.image.AxesImage at 0x129583700>, array([6.]))"
      ]
     },
     "execution_count": 2,
     "metadata": {},
     "output_type": "execute_result"
    },
    {
     "data": {
      "image/png": "[encoded data removed]",
      "text/plain": [
       "<Figure size 432x288 with 1 Axes>"
      ]
     },
     "metadata": {
      "needs_background": "light"
     },
     "output_type": "display_data"
    }
   ],
   "source": [
    "%pylab inline\n",
    "import random\n",
    "ran = random.randint(0,len(train_data))\n",
    "fac = 0.99 / 255\n",
    "train_imgs = np.asfarray(train_data[:, 1:]) * fac + 0.01\n",
    "test_imgs = np.asfarray(test_data[:, 1:]) * fac + 0.01\n",
    "print(train_imgs.shape)\n",
    "train_labels = np.asfarray(train_data[:, :1])\n",
    "test_labels = np.asfarray(test_data[:, :1])\n",
    "\n",
    "test = train_imgs[ran].reshape((28,28))\n",
    "\n",
    "imshow(test),train_labels[ran]\n"
   ]
  },
  {
   "cell_type": "code",
   "execution_count": 11,
   "metadata": {},
   "outputs": [
    {
     "name": "stdout",
     "output_type": "stream",
     "text": [
      "w1:  (784, 128)  w2:  (128, 10)\n",
      "b1:  (128,)  b2:  (10,)\n"
     ]
    },
    {
     "data": {
      "text/plain": [
       "array([-0.03895931,  0.05100867, -0.0421679 , -0.01280435, -0.03478977,\n",
       "        0.06622107,  0.07333901,  0.08730499, -0.04644147, -0.06335729])"
      ]
     },
     "execution_count": 11,
     "metadata": {},
     "output_type": "execute_result"
    }
   ],
   "source": [
    "l1 = train_imgs.shape[1]\n",
    "l2 = 128\n",
    "l3 = 10\n",
    "\n",
    "w1_shape = (l1,l2)\n",
    "w2_shape = (l2,l3)\n",
    "\n",
    "w1 = np.random.uniform(-1,1,w1_shape)/np.sqrt(l1)\n",
    "w2 = np.random.uniform(-1,1,w2_shape)/np.sqrt(l2)\n",
    "test1 = w1\n",
    "test2 =w2\n",
    "#print(w2[0])\n",
    "#define all biasees with 0\n",
    "b1 = np.full(l2,0,dtype=\"float64\")\n",
    "b2 = np.full(l3,0,dtype=\"float64\")\n",
    "print(\"w1: \",w1.shape,\" w2: \",w2.shape)\n",
    "testb1 = b1\n",
    "testb2 = b2\n",
    "print(\"b1: \",b1.shape,\" b2: \",b2.shape)\n",
    "#use this for the last layer\n",
    "def sigmoid(x):\n",
    "    return 1/(1+np.exp(-x))\n",
    "\n",
    "#use this for the first layer\n",
    "def relu(x):\n",
    "    return np.maximum(0,x)\n",
    "\n",
    "def softmax(x):\n",
    "    expo = np.exp(x)\n",
    "    expo_sum = np.sum(np.exp(x))\n",
    "    return expo/expo_sum\n",
    "def logsumexp(x):\n",
    "  #return np.log(np.exp(x).sum(axis=1))\n",
    "  # http://gregorygundersen.com/blog/2020/02/09/log-sum-exp/\n",
    "  c = x.max(axis=1)\n",
    "  return c + np.log(np.exp(x-c.reshape((-1, 1))).sum(axis=1))\n",
    "\n",
    "l1,l2,l3\n",
    "train_labels.shape\n",
    "train_labels\n",
    "w1[0]\n",
    "w2[1]"
   ]
  },
  {
   "cell_type": "code",
   "execution_count": 4,
   "metadata": {},
   "outputs": [
    {
     "data": {
      "image/png": "[encoded data removed]",
      "text/plain": [
       "<Figure size 432x288 with 1 Axes>"
      ]
     },
     "metadata": {
      "needs_background": "light"
     },
     "output_type": "display_data"
    },
    {
     "name": "stdout",
     "output_type": "stream",
     "text": [
      "1\n"
     ]
    }
   ],
   "source": [
    "def forward_prop(img):\n",
    "    \n",
    "    #flatten the img data\n",
    "    x = img.flatten()/255\n",
    "    #print(w1.shape,b1.shape)\n",
    "    first_layer = np.dot(x,w1)+b1\n",
    "    first_layer_activation = relu(first_layer)\n",
    "    \n",
    "    #y is youre labels aka 0123456789\n",
    "    second_layer  = np.dot(first_layer_activation,w2) + b2\n",
    "    #print(y.shape)\n",
    "    \n",
    "    #exp_y = np.exp(second_layer)\n",
    "    #second_layer_activation = exp_y / exp_y.sum()\n",
    "    #second_layer_activation = softmax(second_layer)\n",
    "    second_layer_activation = sigmoid(second_layer)\n",
    "    return x,first_layer,first_layer_activation,second_layer,second_layer_activation\n",
    "\n",
    "\n",
    "def loss(second_layer_activation,the_label):\n",
    "    #print(\"yes: \",second_layer_activation[int(the_label)])\n",
    "    return -np.log(second_layer_activation[int(the_label)])\n",
    "\n",
    "\n",
    "def numpy_eval():\n",
    "  Y_test_preds_out = forward(test_imgs.reshape((-1, 28*28)))\n",
    "  Y_test_preds = np.argmax(Y_test_preds_out, axis=1)\n",
    "  return (test_labels == Y_test_preds).mean()\n",
    "\n",
    "    \n",
    "#print(ya,\"\\n\\n\",test3)\n",
    "x, first_layer,first_layer_activation,second_layer,second_layer_activation = forward_prop(train_imgs[1000])\n",
    "\n",
    "plt.imshow(x.reshape((28,28)))\n",
    "plt.show()\n",
    "\n",
    "\n",
    "print(second_layer_activation.argmax())"
   ]
  },
  {
   "cell_type": "code",
   "execution_count": 5,
   "metadata": {},
   "outputs": [],
   "source": [
    "iters = 1000\n",
    "lr = 1\n",
    "bz = 32\n",
    "n_tests = 500"
   ]
  },
  {
   "cell_type": "code",
   "execution_count": 6,
   "metadata": {},
   "outputs": [
    {
     "name": "stdout",
     "output_type": "stream",
     "text": [
      "this one is being changed: [5.] 0.6000323600080668\n",
      "this one is being changed: [0.] 0.47731906529757384\n",
      "this one is being changed: [4.] 0.3013824649179222\n",
      "this one is being changed: [1.] 0.17894416835156152\n",
      "this one is being changed: [9.] 0.12621734807111312\n",
      "this one is being changed: [2.] 0.10817236926596142\n",
      "this one is being changed: [1.] 0.10185928909190095\n",
      "this one is being changed: [3.] 0.1007565398608751\n",
      "this one is being changed: [1.] 0.10011538240766124\n",
      "this one is being changed: [4.] 0.1000370824171104\n",
      "this one is being changed: [6.] 0.10002096312777506\n",
      "this one is being changed: [9.] 0.1000115535628075\n",
      "this one is being changed: [0.] 0.10001108028865777\n",
      "this one is being changed: [5.] 0.10001374672109427\n",
      "this one is being changed: [6.] 0.10001404765432359\n",
      "this one is being changed: [0.] 0.10000820621575168\n",
      "this one is being changed: [7.] 0.10002093671428992\n",
      "this one is being changed: [6.] 0.1000077049360144\n",
      "this one is being changed: [1.] 0.10000584754738598\n",
      "this one is being changed: [8.] 0.10002090494078017\n",
      "this one is being changed: [4.] 0.10000931088982351\n",
      "this one is being changed: [5.] 0.10000682014942625\n",
      "this one is being changed: [6.] 0.10000313071134448\n",
      "this one is being changed: [1.] 0.10000478796921412\n",
      "this one is being changed: [0.] 0.10000301810957407\n",
      "this one is being changed: [0.] 0.10000272902634082\n",
      "this one is being changed: [1.] 0.10000354602585276\n",
      "this one is being changed: [7.] 0.1000140178161233\n",
      "this one is being changed: [1.] 0.10000237650205963\n",
      "this one is being changed: [6.] 0.10000155359774784\n",
      "(10,)\n",
      "[8, 8, 8, 8, 8, 8, 8, 8, 8, 8, 8, 8, 8, 8, 8, 8, 8, 8, 8, 8, 8, 8, 8, 8, 8, 8, 8, 8, 8, 8, 8, 8, 8, 8, 8, 8, 8, 8, 8, 8, 8, 8, 8, 8, 8, 8, 8, 8, 8, 8, 8, 8, 8, 8, 8, 8, 8, 8, 8, 8, 8, 8, 8, 8, 8, 8, 8, 8, 8, 8, 8, 8, 8, 8, 8, 8, 8, 8, 8, 8, 8, 8, 8, 8, 8, 8, 8, 8, 8, 8, 8, 8, 8, 8, 8, 8, 8, 8, 8, 8, 8, 8, 8, 8, 8, 8, 8, 8, 8, 8, 8, 8, 8, 8, 8, 8, 8, 8, 8, 8, 8, 8, 8, 8, 8, 8, 8, 8, 8, 8, 8, 8, 8, 8, 8, 8, 8, 8, 8, 8, 8, 8, 8, 8, 8, 8, 8, 8, 8, 8, 8, 8, 8, 8, 8, 8, 8, 8, 8, 8, 8, 8, 8, 8, 8, 8, 8, 8, 8, 8, 8, 8, 8, 8, 8, 8, 8, 8, 8, 8, 8, 8, 8, 8, 8, 8, 8, 8, 8, 8, 8, 8, 8, 8, 8, 8, 8, 8, 8, 8, 8, 8, 8, 8, 8, 8, 8, 8, 8, 8, 8, 8, 8, 8, 8, 8, 8, 8, 8, 8, 8, 8, 8, 8, 8, 8, 8, 8, 8, 8, 8, 8, 8, 8, 8, 8, 8, 8, 8, 8, 8, 8, 8, 8, 8, 8, 8, 8, 8, 8, 8, 8, 8, 8, 8, 8, 8, 8, 8, 8, 8, 8, 8, 8, 8, 8, 8, 8, 8, 8, 8, 8, 8, 8, 8, 8, 8, 8, 8, 8, 8, 8, 8, 8, 8, 8, 8, 8, 8, 8, 8, 8, 8, 8, 8, 8, 8, 8, 8, 8, 8, 8, 8, 8, 8, 8, 8, 8, 8, 8, 8, 8, 8, 8, 8, 8, 8, 8, 8, 8, 8, 8, 8, 8, 8, 8, 8, 8, 8, 8, 8, 8, 8, 8, 8, 8, 8, 8, 8, 8, 8, 8, 8, 8, 8, 8, 8, 8, 8, 8, 8, 8, 8, 8, 8, 8, 8, 8, 8, 8, 8, 8, 8, 8, 8, 8, 8, 8, 8, 8, 8, 8, 8, 8, 8, 8, 8, 8, 8, 8, 8, 8, 8, 8, 8, 8, 8, 8, 8, 8, 8, 8, 8, 8, 8, 8, 8, 8, 8, 8, 8, 8, 8, 8, 8, 8, 8, 8, 8, 8, 8, 8, 8, 8, 8, 8, 8, 8, 8, 8, 8, 8, 8, 8, 8, 8, 8, 8, 8, 8, 8, 8, 8, 8, 8, 8, 8, 8, 8, 8, 8, 8, 8, 8, 8, 8, 8, 8, 8, 8, 8, 8, 8, 8, 8, 8, 8, 8, 8, 8, 8, 8, 8, 8, 8, 8, 8, 8, 8, 8, 8, 8, 8, 8, 8, 8, 8, 8, 8, 8, 8, 8, 8, 8, 8, 8, 8, 8, 8, 8, 8, 8, 8, 8, 8, 8, 8, 8, 8, 8]\n",
      "test acc:  0.08\n"
     ]
    },
    {
     "data": {
      "text/plain": [
       "<matplotlib.image.AxesImage at 0x1267f8a90>"
      ]
     },
     "execution_count": 6,
     "metadata": {},
     "output_type": "execute_result"
    },
    {
     "data": {
      "image/png": "[encoded data removed]",
      "text/plain": [
       "<Figure size 432x288 with 1 Axes>"
      ]
     },
     "metadata": {
      "needs_background": "light"
     },
     "output_type": "display_data"
    }
   ],
   "source": [
    "#def backpropagation(x,h,ha,ya,t):d\n",
    "\"\"\"\n",
    "            dw = (1/m) * np.dot(X, (A-Y).T)\n",
    "            db = (1/m) * np.sum(A-Y)\"\"\"\n",
    "def backpropagation(x,first_layer,first_layer_activation,second_layer_activation,the_label):\n",
    "    d_b2 = second_layer_activation\n",
    "    m = train_imgs.shape[1]\n",
    "    #print(d_b2[1])\n",
    "    #print(d_b2)\n",
    "    #A = sigmoid(np.dot(train_imgs,w1)+b1)\n",
    "    #print(A.shape,w1.shape)\n",
    "    ######## here you changhe the bias to optimize it\n",
    "    d_b2[int(the_label)] += 0.1\n",
    "    print(\"this one is being changed: {}\".format(the_label),d_b2[int(the_label)])\n",
    "    #print(\"this is with it added: \",d_b2)\n",
    "    #print(d_b2)\n",
    "    \n",
    "    #d_b1 = (1/m) * np.sum(first_layer_activation - train_labels)\n",
    "    d_w2 = np.outer(first_layer_activation,d_b2)\n",
    "    #d_w2 = np.dot(first_layer_activation,w2) + b2\n",
    "    #print(\"in the back_prop: \",d_w2[0])\n",
    "    #print(\"w2.shape: \",w2.shape,\"d_b2.shape: \",d_b2.shape)\n",
    "    d_b1 = np.dot(w2,d_b2) *first_layer_activation *(1-first_layer_activation)\n",
    "    #d_b1 = (1/m)*np.sum(second_layer_activation-the_label)\n",
    "    #print(\"!!!!!d_b2.shape: \",d_b2.shape)\n",
    "    #print(\"!!!!!w2: \",w2.shape)\n",
    "    #print(\"!!!!!ha.shape: \",ha.shape)\n",
    "\n",
    "    d_w1 = np.outer(x,d_b1)\n",
    "    #print(d_w1.shape)\n",
    "    return d_w1, d_w2,d_b1,d_b2\n",
    "los = []\n",
    "def train(iterations,batch_size):\n",
    "    #for k in range(iterations):\n",
    "    for k in range(3):\n",
    "        sum_d_w1 = np.zeros(w1_shape)\n",
    "        sum_d_w2 = np.zeros(w2_shape)\n",
    "        sum_d_b1 = np.zeros(l2)\n",
    "        #print(\"sum_d_b1 up here : \",sum_d_b1.shape)\n",
    "        sum_d_b2 = np.zeros(l3)\n",
    "        #print(\"sum_d_w1.shape: \",sum_d_w1.shape)\n",
    "        #print(\"sum_d_w2.shape: \",sum_d_w2.shape)\n",
    "        #print(\"sum_d_b1.shape: \",sum_d_b1.shape)\n",
    "        #print(\"sum_d_b2.shape: \",sum_d_b2.shape)\n",
    "        #print(\"??\",sum_d_b1)\n",
    "        #print(\"??\",sum_d_b2)\n",
    "\n",
    "        #print(\"sum_d_w1.shape.resize((128,0)): \",sum_d_b1.shape)\n",
    "        #for i in range(batch_size):\n",
    "        for i in range(10):\n",
    "            index = k * batch_size + i\n",
    "            #print(\"this is index: \", index)\n",
    "            \n",
    "            try:\n",
    "                image = train_imgs[index]\n",
    "                the_label = train_labels[index]\n",
    "            except:\n",
    "                image = train_imgs[-k]\n",
    "                the_label = train_labels[-k]\n",
    "            \n",
    "            x,first_layer,first_layer_activation,second_layer,second_layer_activation = forward_prop(image)\n",
    "            d_w1,d_w2,d_b1,d_b2 = backpropagation(x,first_layer,first_layer_activation,second_layer_activation,the_label)\n",
    "            los.append(loss(second_layer_activation,the_label))\n",
    "            #print(\"%%\",d_b1)\n",
    "            #print(\"important : d_b1.shape: \",d_b1.shape )\n",
    "            #print(\"2d_w1.shape: \",d_w1.shape)\n",
    "            #print(\"2d_w2.shape: \",d_w2.shape) \n",
    "            #print(\"2d_b1.shape: \",d_b1.shape) \n",
    "            #print(\"2d_b2.shape: \",d_b2.shape)\n",
    "            #print(d_b2)\n",
    "            sum_d_w1 += d_w1\n",
    "            sum_d_w2 += d_w2\n",
    "            #print(\"\\n d_w2: \",d_w2[0])\n",
    "            #print(\"\\nthis is sum_d_w2 in the other {}:\\n \".format(i), sum_d_w2[0])\n",
    "            #sum_d_w2.shape = (128,10)\n",
    "            #d_b2.shape = (10,)\n",
    "            #print(\"d_w1: \",sum_d_w1.shape,\" += \",d_w1.shape)\n",
    "            #print(\"d_b1: \",sum_d_b1.shape,\" += \",d_b1.shape)\n",
    "            #print(\"d_b2: \",sum_d_b2.shape,\" += \",d_b2.shape)\n",
    "            #sum_d_b1 should be 128\n",
    "            sum_d_b1 += d_b1\n",
    "            sum_d_b2 += d_b2\n",
    "            w1[:] -= lr * sum_d_w1\n",
    "            #print(w2[0])\n",
    "            w2[:] -= lr * sum_d_w2\n",
    "            #print(\"this is w2: \",w2[0])\n",
    "            b1[:] -= lr * sum_d_b1\n",
    "            b2[:] -= lr * sum_d_b2\n",
    "            \n",
    "    #print(b1.dtype,sum_d_b1.dtype)\n",
    "    #gradient descent implementation\n",
    "    \"\"\"\n",
    "    w1[:] -= lr * sum_d_w1\n",
    "    #print(w2[0])\n",
    "    print(\"sum_d_b2: \",sum_d_b2)\n",
    "    w2[:] -= lr * sum_d_w2\n",
    "    b1[:] -= lr * sum_d_b1\n",
    "    b2[:] -= lr * sum_d_b2\"\"\"\n",
    "    print(b2.shape)\n",
    "    return los\n",
    "def test():\n",
    "    result = []\n",
    "    for i in range(n_tests):\n",
    "        img = test_imgs[i]\n",
    "        label = test_labels[i]\n",
    "        x, first_layer,first_layer_activation,second_layer,second_layer_activation = forward_prop(img)\n",
    "        result.append(second_layer_activation.argmax())\n",
    "    return result\n",
    "\n",
    "def accuracy(result):\n",
    "    acc = 0\n",
    "    for i in range(n_tests):\n",
    "        if result[i] == test_labels[i]:\n",
    "            acc += 1\n",
    "    return acc / n_tests\n",
    "\n",
    "los = train(iters,bz)\n",
    "result = test()\n",
    "print(result)\n",
    "acc1 = accuracy(result)\n",
    "print(\"test acc: \",acc1)   \n",
    "x, first_layer, first_layer_activation, second_layer,second_layer_activation = forward_prop(train_imgs[10])\n",
    "\n",
    "\n",
    "#plt.imshow(train_imgs[0].reshape((28,28)))\n",
    "plt.imshow(x.reshape((28,28)))\n",
    "\n",
    "#print(los[:10])\n",
    "#plot(loss,c=\"red\")\n"
   ]
  },
  {
   "cell_type": "code",
   "execution_count": null,
   "metadata": {},
   "outputs": [],
   "source": []
  },
  {
   "cell_type": "code",
   "execution_count": 8,
   "metadata": {},
   "outputs": [
    {
     "name": "stdout",
     "output_type": "stream",
     "text": [
      "8\n",
      "[1.00305625e-06 1.30429312e-06 1.27017587e-05 1.54810919e-05\n",
      " 3.42266696e-06 2.76968902e-06 1.27127265e-06 1.03782471e-05\n",
      " 1.88883159e-05 4.69156381e-06] \n",
      "\n",
      "\n",
      " [-0.05415353 -0.05313581 -0.04420308 -0.04342168 -0.04934445 -0.05017666\n",
      " -0.05322498 -0.04499863 -0.04265056 -0.04811112]\n"
     ]
    }
   ],
   "source": [
    "x, first_layer, first_layer_activation, second_layer,second_layer_activation = forward_prop(train_imgs[1])\n",
    "print(second_layer_activation.argmax())\n",
    "print(second_layer_activation,\"\\n\\n\\n\",b2/255)\n"
   ]
  },
  {
   "cell_type": "code",
   "execution_count": null,
   "metadata": {},
   "outputs": [],
   "source": []
  },
  {
   "cell_type": "code",
   "execution_count": null,
   "metadata": {},
   "outputs": [],
   "source": []
  },
  {
   "cell_type": "code",
   "execution_count": null,
   "metadata": {},
   "outputs": [],
   "source": []
  },
  {
   "cell_type": "code",
   "execution_count": null,
   "metadata": {},
   "outputs": [],
   "source": []
  },
  {
   "cell_type": "code",
   "execution_count": null,
   "metadata": {},
   "outputs": [],
   "source": []
  },
  {
   "cell_type": "code",
   "execution_count": null,
   "metadata": {},
   "outputs": [],
   "source": []
  },
  {
   "cell_type": "code",
   "execution_count": null,
   "metadata": {},
   "outputs": [],
   "source": []
  },
  {
   "cell_type": "code",
   "execution_count": null,
   "metadata": {},
   "outputs": [],
   "source": []
  },
  {
   "cell_type": "code",
   "execution_count": null,
   "metadata": {},
   "outputs": [],
   "source": []
  }
 ],
 "metadata": {
  "kernelspec": {
   "display_name": "Python 3",
   "language": "python",
   "name": "python3"
  },
  "language_info": {
   "codemirror_mode": {
    "name": "ipython",
    "version": 3
   },
   "file_extension": ".py",
   "mimetype": "text/x-python",
   "name": "python",
   "nbconvert_exporter": "python",
   "pygments_lexer": "ipython3",
   "version": "3.9.0"
  }
 },
 "nbformat": 4,
 "nbformat_minor": 4
}
