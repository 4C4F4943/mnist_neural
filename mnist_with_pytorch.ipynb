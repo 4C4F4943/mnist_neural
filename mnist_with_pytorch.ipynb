{
 "cells": [
  {
   "cell_type": "code",
   "execution_count": 1,
   "metadata": {},
   "outputs": [
    {
     "data": {
      "text/plain": [
       "array([[7., 0., 0., ..., 0., 0., 0.],\n",
       "       [2., 0., 0., ..., 0., 0., 0.],\n",
       "       [1., 0., 0., ..., 0., 0., 0.],\n",
       "       ...,\n",
       "       [9., 0., 0., ..., 0., 0., 0.],\n",
       "       [5., 0., 0., ..., 0., 0., 0.],\n",
       "       [9., 0., 0., ..., 0., 0., 0.]])"
      ]
     },
     "execution_count": 1,
     "metadata": {},
     "output_type": "execute_result"
    }
   ],
   "source": [
    "import numpy as np\n",
    "import matplotlib.pyplot as plt\n",
    "\n",
    "data_path = \"/Users/joostnachtergaele/mnist_neural/\"\n",
    "test = data_path + \"mnist_train.csv\"\n",
    "train_data = np.loadtxt(data_path + \"mnist_train.csv\", \n",
    "                        delimiter=\",\")\n",
    "test_data = np.loadtxt(data_path + \"mnist_test.csv\", \n",
    "                       delimiter=\",\") \n",
    "test_data[:10]"
   ]
  },
  {
   "cell_type": "code",
   "execution_count": 2,
   "metadata": {},
   "outputs": [
    {
     "name": "stdout",
     "output_type": "stream",
     "text": [
      "Populating the interactive namespace from numpy and matplotlib\n",
      "up here :  (60000, 784)\n"
     ]
    },
    {
     "name": "stderr",
     "output_type": "stream",
     "text": [
      "/Library/Frameworks/Python.framework/Versions/3.8/lib/python3.8/site-packages/IPython/core/magics/pylab.py:159: UserWarning: pylab import has clobbered these variables: ['test']\n",
      "`%matplotlib` prevents importing * from pylab and numpy\n",
      "  warn(\"pylab import has clobbered these variables: %s\"  % clobbered +\n"
     ]
    },
    {
     "name": "stdout",
     "output_type": "stream",
     "text": [
      "(60000, 28, 28)\n"
     ]
    },
    {
     "data": {
      "text/plain": [
       "(60000, 28, 28)"
      ]
     },
     "execution_count": 2,
     "metadata": {},
     "output_type": "execute_result"
    },
    {
     "data": {
      "image/png": "[encoded data removed]",
      "text/plain": [
       "<Figure size 432x288 with 1 Axes>"
      ]
     },
     "metadata": {
      "needs_background": "light"
     },
     "output_type": "display_data"
    }
   ],
   "source": [
    "%pylab inline\n",
    "import random\n",
    "ran = random.randint(0,len(train_data))\n",
    "fac = 0.99 / 255\n",
    "print(\"up here : \",train_data[:,1:].shape)\n",
    "train_imgs = np.asfarray(train_data[:, 1:],dtype=\"float32\") * fac + 0.01\n",
    "test_imgs = np.asfarray(test_data[:, 1:],dtype=\"float32\") * fac + 0.01\n",
    "\n",
    "train_imgs = train_imgs.reshape(train_imgs.shape[0],28,28)\n",
    "test_imgs = test_imgs.reshape(test_imgs.shape[0],28,28)\n",
    "print(train_imgs.shape)\n",
    "train_labels = np.asfarray(train_data[:, :1],dtype=\"float32\")\n",
    "test_labels = np.asfarray(test_data[:, :1],dtype=\"float32\")\n",
    "\n",
    "test = train_imgs[ran].reshape((28,28))\n",
    "train_labels = train_labels.reshape(train_labels.shape[0])\n",
    "test_labels.reshape(test_labels.shape[0])\n",
    "imshow(test)\n",
    "xlabel(train_labels[ran])\n",
    "train_imgs.reshape(train_imgs.shape[0],28,28).shape"
   ]
  },
  {
   "cell_type": "code",
   "execution_count": 3,
   "metadata": {},
   "outputs": [],
   "source": [
    "import torch\n",
    "from torch import nn\n",
    "import torch.nn.functional as F\n",
    "from tqdm import trange\n",
    "class the_net(torch.nn.Module):\n",
    "    def __init__(self):\n",
    "        super(the_net,self).__init__()\n",
    "        self.l1 = nn.Linear(784,128,bias=False)\n",
    "        #self.l2 = nn.Linear(128,10,bias=True)\n",
    "        #self.l3 = nn.Linear(32,10,bias=False)\n",
    "        #self.l2 = nn.BatchNorm1d(128)\n",
    "        self.l2 = nn.Linear(128,64,bias=False)\n",
    "        #self.l3 = nn.Linear(64,10,bias=False)\n",
    "        #self.l4 = nn.Bilinear(64,10,10,bias=False)\n",
    "        self.soft_max = nn.LogSoftmax(dim=1)\n",
    "    def forward(self,x):\n",
    "        x = F.relu(self.l1(x))\n",
    "        \n",
    "        #x = F.relu(self.l2(x))\n",
    "        x = self.l2(x)\n",
    "        #x = self.l3(x)\n",
    "        #x = self.l3(x)\n",
    "        x = self.soft_max(x)\n",
    "        return x\n",
    "        "
   ]
  },
  {
   "cell_type": "code",
   "execution_count": 4,
   "metadata": {},
   "outputs": [
    {
     "name": "stderr",
     "output_type": "stream",
     "text": [
      "loss 0.19 accuracy 0.95: 100%|██████████| 2000/2000 [00:10<00:00, 195.82it/s]\n"
     ]
    },
    {
     "data": {
      "text/plain": [
       "the_net(\n",
       "  (l1): Linear(in_features=784, out_features=128, bias=False)\n",
       "  (l2): Linear(in_features=128, out_features=64, bias=False)\n",
       "  (soft_max): LogSoftmax(dim=1)\n",
       ")"
      ]
     },
     "execution_count": 4,
     "metadata": {},
     "output_type": "execute_result"
    },
    {
     "data": {
      "image/png": "[encoded data removed]",
      "text/plain": [
       "<Figure size 432x288 with 1 Axes>"
      ]
     },
     "metadata": {
      "needs_background": "light"
     },
     "output_type": "display_data"
    }
   ],
   "source": [
    "model = the_net()\n",
    "\n",
    "# negative log likelyhood loss as log function\n",
    "loss_function = nn.NLLLoss(reduction=\"none\")\n",
    "#loss_function = nn.CrossEntropyLoss(reduction=\"mean\")\n",
    "#optim = torch.optim.SGD(model.parameters(), lr=0.001, momentum=0)\n",
    "optim = torch.optim.Adam(model.parameters(),lr=0.001)\n",
    "iters = 2000\n",
    "bs = 128\n",
    "losses, accuracies = [], []\n",
    "\n",
    "for i in (t := trange(iters)):\n",
    "    samp = np.random.randint(0,train_imgs.shape[0],size=(bs))\n",
    "    X = torch.tensor(train_imgs[samp].reshape((-1,28*28))).float()\n",
    "    Y = torch.tensor(train_labels[samp]).long()\n",
    "    model.zero_grad()\n",
    "    out = model(X)\n",
    "    cat = torch.argmax(out,dim=1)\n",
    "    accuracy = (cat ==Y).float().mean()\n",
    "    loss = loss_function(out,Y)\n",
    "    loss = loss.mean()\n",
    "    loss.backward()\n",
    "    optim.step()\n",
    "    loss,accuracy = loss.item(), accuracy.item()\n",
    "    losses.append(loss)\n",
    "    accuracies.append(accuracy)\n",
    "    t.set_description(\"loss %.2f accuracy %.2f\"%(loss,accuracy))\n",
    "plot(losses)\n",
    "plot(accuracies)\n",
    "model.eval()\n"
   ]
  },
  {
   "cell_type": "code",
   "execution_count": 5,
   "metadata": {},
   "outputs": [
    {
     "name": "stdout",
     "output_type": "stream",
     "text": [
      "6667\n",
      "the predicted value:  6\n",
      "True\n"
     ]
    },
    {
     "data": {
      "image/png": "[encoded data removed]",
      "text/plain": [
       "<Figure size 432x288 with 1 Axes>"
      ]
     },
     "metadata": {
      "needs_background": "light"
     },
     "output_type": "display_data"
    }
   ],
   "source": [
    "l1 = model.l1.weight.detach().numpy().T\n",
    "l2 = model.l2.weight.detach().numpy().T\n",
    "#l3 = model.l3.weight.detach().numpy().T\n",
    "# numpy forward pass\n",
    "def forward(x):\n",
    "    x = x.dot(l1)\n",
    "    #print(\"the first x :\",x)\n",
    "    #x = x *l2  \n",
    "    #print(x.shape)\n",
    "    x = x.dot(l2)\n",
    "    #x = x.dot(l3)\n",
    "    #print(\"the second x: \",x)\n",
    "    #x = x.dot(l3)\n",
    "    return x\n",
    "\n",
    "#test_img = torch.tensor(test_imgs[1].reshape((-1,28*28))).float()\n",
    "\n",
    "the_ind = random.randint(0,test_imgs.shape[0])\n",
    "print(the_ind)\n",
    "test_label = torch.tensor(test_labels[the_ind]).long()\n",
    "\n",
    "xlabel(test_label)\n",
    "imshow(test_imgs[the_ind])\n",
    "\n",
    "the_img = test_imgs[the_ind].reshape((28*28))\n",
    "out = forward(the_img)\n",
    "\n",
    "print(\"the predicted value: \",out.argmax())\n",
    "print(int(out.argmax())==int(test_label))"
   ]
  },
  {
   "cell_type": "code",
   "execution_count": 13,
   "metadata": {},
   "outputs": [
    {
     "name": "stderr",
     "output_type": "stream",
     "text": [
      "current acc 0.776: 100%|██████████| 9999/9999 [00:14<00:00, 707.67it/s]\n"
     ]
    },
    {
     "data": {
      "text/plain": [
       "('test acc: ', 0.7765)"
      ]
     },
     "execution_count": 13,
     "metadata": {},
     "output_type": "execute_result"
    }
   ],
   "source": [
    "def eval():\n",
    "    acc = []\n",
    "    right = 0\n",
    "    for i in (t := trange(1,test_imgs.shape[0])):\n",
    "        t.set_description(\"current acc \"+str(round(right/i,3)))\n",
    "        out = forward(test_imgs[i].reshape((28*28)))\n",
    "        res = int(out.argmax())\n",
    "        the_lab = int(test_labels[i])\n",
    "        if res == the_lab:\n",
    "            right += 1\n",
    "            acc.append(True)\n",
    "    return acc, right/ test_imgs.shape[0]\n",
    "acc,right = eval()\n",
    "\"test acc: \", right"
   ]
  },
  {
   "cell_type": "code",
   "execution_count": null,
   "metadata": {},
   "outputs": [],
   "source": []
  },
  {
   "cell_type": "code",
   "execution_count": null,
   "metadata": {},
   "outputs": [],
   "source": []
  },
  {
   "cell_type": "code",
   "execution_count": null,
   "metadata": {},
   "outputs": [],
   "source": []
  },
  {
   "cell_type": "code",
   "execution_count": null,
   "metadata": {},
   "outputs": [],
   "source": []
  },
  {
   "cell_type": "code",
   "execution_count": null,
   "metadata": {},
   "outputs": [],
   "source": []
  },
  {
   "cell_type": "code",
   "execution_count": null,
   "metadata": {},
   "outputs": [],
   "source": []
  },
  {
   "cell_type": "code",
   "execution_count": null,
   "metadata": {},
   "outputs": [],
   "source": []
  },
  {
   "cell_type": "code",
   "execution_count": null,
   "metadata": {},
   "outputs": [],
   "source": []
  },
  {
   "cell_type": "code",
   "execution_count": null,
   "metadata": {},
   "outputs": [],
   "source": []
  },
  {
   "cell_type": "code",
   "execution_count": null,
   "metadata": {},
   "outputs": [],
   "source": []
  },
  {
   "cell_type": "code",
   "execution_count": null,
   "metadata": {},
   "outputs": [],
   "source": []
  },
  {
   "cell_type": "code",
   "execution_count": null,
   "metadata": {},
   "outputs": [],
   "source": []
  }
 ],
 "metadata": {
  "kernelspec": {
   "display_name": "Python 3",
   "language": "python",
   "name": "python3"
  },
  "language_info": {
   "codemirror_mode": {
    "name": "ipython",
    "version": 3
   },
   "file_extension": ".py",
   "mimetype": "text/x-python",
   "name": "python",
   "nbconvert_exporter": "python",
   "pygments_lexer": "ipython3",
   "version": "3.8.3"
  }
 },
 "nbformat": 4,
 "nbformat_minor": 4
}
